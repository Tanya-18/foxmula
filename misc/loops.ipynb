{
 "cells": [
  {
   "cell_type": "code",
   "execution_count": 1,
   "metadata": {},
   "outputs": [
    {
     "name": "stdout",
     "output_type": "stream",
     "text": [
      "2\n",
      "5\n",
      "8\n",
      "11\n",
      "14\n"
     ]
    }
   ],
   "source": [
    "#while loop\n",
    "a = 2\n",
    "while(a<15):\n",
    "    print(a)\n",
    "    a=a+3\n",
    "    "
   ]
  },
  {
   "cell_type": "code",
   "execution_count": 3,
   "metadata": {},
   "outputs": [
    {
     "name": "stdout",
     "output_type": "stream",
     "text": [
      "sum of even numbers from 1 to 100 is: 2550\n"
     ]
    }
   ],
   "source": [
    "# even numbers sum\n",
    "i= 1\n",
    "sum= 0\n",
    "while(i<=100):\n",
    "    if(i%2 == 0):\n",
    "        sum= sum+i\n",
    "    i=i+1\n",
    "print(\"sum of even numbers from 1 to 100 is:\",sum)    \n",
    "    "
   ]
  },
  {
   "cell_type": "code",
   "execution_count": 4,
   "metadata": {},
   "outputs": [
    {
     "name": "stdout",
     "output_type": "stream",
     "text": [
      "current element is 1\n",
      "current element is 2\n",
      "current element is 3\n",
      "current element is 4\n",
      "current element is 5\n"
     ]
    }
   ],
   "source": [
    "#for loops\n",
    "\n",
    "list1= [1,2, 3, 4, 5]\n",
    "for b in (range(len(list1))):\n",
    "    print(\"current element is\", list1[b])"
   ]
  },
  {
   "cell_type": "code",
   "execution_count": 7,
   "metadata": {},
   "outputs": [
    {
     "name": "stdout",
     "output_type": "stream",
     "text": [
      "1\n",
      "nacho\n",
      "2\n",
      "nacho\n",
      "3\n",
      "nacho\n",
      "4\n",
      "nacho\n",
      "5\n",
      "nacho\n",
      "6\n",
      "nacho\n",
      "7\n",
      "nacho\n",
      "8\n"
     ]
    }
   ],
   "source": [
    "x=1\n",
    "while x<=10:\n",
    "    print(x)\n",
    "    if (x==8):\n",
    "        break\n",
    "    x=x+1 \n",
    "    print(\"nacho\")\n",
    "        \n",
    "        "
   ]
  },
  {
   "cell_type": "code",
   "execution_count": 9,
   "metadata": {},
   "outputs": [
    {
     "name": "stdout",
     "output_type": "stream",
     "text": [
      "2\n",
      "4\n",
      "5\n",
      "6\n",
      "7\n",
      "8\n",
      "9\n",
      "10\n"
     ]
    }
   ],
   "source": [
    "c=1\n",
    "while c<10:\n",
    "    c=c+1\n",
    "    if c==3:\n",
    "        continue\n",
    "    print(c)    "
   ]
  },
  {
   "cell_type": "code",
   "execution_count": 20,
   "metadata": {},
   "outputs": [
    {
     "name": "stdout",
     "output_type": "stream",
     "text": [
      "1\n"
     ]
    }
   ],
   "source": [
    "# factorial\n",
    "y= 0\n",
    "fact=1\n",
    "while (y>=1):\n",
    "    fact=fact*y\n",
    "    y=y-1\n",
    "print(fact)\n",
    "    "
   ]
  },
  {
   "cell_type": "code",
   "execution_count": 19,
   "metadata": {},
   "outputs": [
    {
     "name": "stdout",
     "output_type": "stream",
     "text": [
      "5040\n"
     ]
    }
   ],
   "source": [
    "n= 7\n",
    "f=1\n",
    "for i in range(n+1):\n",
    "    if(i==0):\n",
    "        continue\n",
    "    f=f*i\n",
    "    i=i+1\n",
    "print(f)    "
   ]
  },
  {
   "cell_type": "code",
   "execution_count": null,
   "metadata": {},
   "outputs": [],
   "source": []
  }
 ],
 "metadata": {
  "kernelspec": {
   "display_name": "Python 3",
   "language": "python",
   "name": "python3"
  },
  "language_info": {
   "codemirror_mode": {
    "name": "ipython",
    "version": 3
   },
   "file_extension": ".py",
   "mimetype": "text/x-python",
   "name": "python",
   "nbconvert_exporter": "python",
   "pygments_lexer": "ipython3",
   "version": "3.8.5"
  }
 },
 "nbformat": 4,
 "nbformat_minor": 4
}
